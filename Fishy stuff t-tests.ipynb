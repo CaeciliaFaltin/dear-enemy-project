{
 "cells": [
  {
   "cell_type": "code",
   "execution_count": 1,
   "metadata": {},
   "outputs": [],
   "source": [
    "def convert_gender(gender):\n",
    "    if gender == 'nm':\n",
    "        return 'm'\n",
    "    elif gender == 'nf':\n",
    "        return 'f'\n",
    "    return gender\n",
    "\n",
    "def update_dict(d, key, row):\n",
    "    empty = [0 for _ in row]\n",
    "    d[key] = (\n",
    "        int(row[0]) + d.get(key, empty)[0],\n",
    "        int(row[1]) + d.get(key, empty)[1]\n",
    "    )"
   ]
  },
  {
   "cell_type": "code",
   "execution_count": 13,
   "metadata": {},
   "outputs": [],
   "source": [
    "hab_control = dict()\n",
    "exp_control = dict()\n",
    "hab_treatment = dict()\n",
    "exp_treatment = dict()\n",
    "\n",
    "with open('complete_output_data-dear_enemy-1.csv','r') as f:\n",
    "    import csv\n",
    "    reader = csv.reader(f)\n",
    "    for row in reader:\n",
    "        # skip header\n",
    "        if row[0] == 'tank_num':\n",
    "            continue\n",
    "\n",
    "        gender = convert_gender(row[7].strip())\n",
    "        phase = row[5].strip()\n",
    "        cond = row[6].strip()\n",
    "        pair_id = int(row[3])\n",
    "        try:\n",
    "            key = (pair_id, gender)\n",
    "            if phase == 'habituation':\n",
    "                if cond == 'control':\n",
    "                    update_dict(hab_control, key, row[8:10])\n",
    "                elif cond == 'treatment':\n",
    "                    update_dict(hab_treatment, key, row[8:10])\n",
    "                else:\n",
    "                    assert False\n",
    "            elif phase == 'experiment':\n",
    "                if cond == 'control':\n",
    "                    update_dict(exp_control, key, row[8:10])\n",
    "                elif cond == 'treatment':\n",
    "                    update_dict(exp_treatment, key, row[8:10])\n",
    "                else:\n",
    "                    assert False\n",
    "            else:\n",
    "                assert False\n",
    "        except ValueError:\n",
    "            pass"
   ]
  },
  {
   "cell_type": "code",
   "execution_count": 14,
   "metadata": {},
   "outputs": [],
   "source": [
    "from scipy import stats\n",
    "import numpy\n",
    "\n",
    "hab_control_i_values = numpy.array([v[0] for v in hab_control.values()])\n",
    "exp_control_i_values = numpy.array([v[0] for v in exp_control.values()])\n",
    "hab_treatment_i_values = numpy.array([v[0] for v in hab_treatment.values()])\n",
    "exp_treatment_i_values = numpy.array([v[0] for v in exp_treatment.values()])\n",
    "\n",
    "hab_control_n_values = numpy.array([v[1] for v in hab_control.values()])\n",
    "exp_control_n_values = numpy.array([v[1] for v in exp_control.values()])\n",
    "hab_treatment_n_values = numpy.array([v[1] for v in hab_treatment.values()])\n",
    "exp_treatment_n_values = numpy.array([v[1] for v in exp_treatment.values()])\n",
    "# How to do a t-test\n",
    "# stats.ttest_rel(hab_control_values, exp_control_values)"
   ]
  },
  {
   "cell_type": "code",
   "execution_count": 15,
   "metadata": {},
   "outputs": [],
   "source": [
    "from matplotlib.pyplot import hist"
   ]
  },
  {
   "cell_type": "code",
   "execution_count": 17,
   "metadata": {},
   "outputs": [
    {
     "data": {
      "text/plain": [
       "(array([ 5., 12., 16.,  8.,  3.,  5.,  9.,  4.,  2.,  5.,  3.,  2.,  2.,\n",
       "         1.,  2.,  0.,  0.,  0.,  0.,  1.]),\n",
       " array([  5. ,  12.8,  20.6,  28.4,  36.2,  44. ,  51.8,  59.6,  67.4,\n",
       "         75.2,  83. ,  90.8,  98.6, 106.4, 114.2, 122. , 129.8, 137.6,\n",
       "        145.4, 153.2, 161. ]),\n",
       " <a list of 1 Patch objects>)"
      ]
     },
     "execution_count": 17,
     "metadata": {},
     "output_type": "execute_result"
    },
    {
     "data": {
      "image/png": "[encoded data removed]",
      "text/plain": [
       "<matplotlib.figure.Figure at 0x7f7ddd02b160>"
      ]
     },
     "metadata": {},
     "output_type": "display_data"
    }
   ],
   "source": [
    "hist(hab_control_i_values,bins=20,histtype='step',color='blue')\n",
    "hist(exp_control_i_values,bins=20,histtype='step',color='red')"
   ]
  },
  {
   "cell_type": "code",
   "execution_count": 18,
   "metadata": {},
   "outputs": [
    {
     "data": {
      "text/plain": [
       "(array([ 7.,  7., 10.,  5.,  8., 13.,  1.,  6.,  5.,  2.,  4.,  4.,  1.,\n",
       "         3.,  1.,  0.,  0.,  2.,  0.,  1.]),\n",
       " array([  0. ,   6.8,  13.6,  20.4,  27.2,  34. ,  40.8,  47.6,  54.4,\n",
       "         61.2,  68. ,  74.8,  81.6,  88.4,  95.2, 102. , 108.8, 115.6,\n",
       "        122.4, 129.2, 136. ]),\n",
       " <a list of 1 Patch objects>)"
      ]
     },
     "execution_count": 18,
     "metadata": {},
     "output_type": "execute_result"
    },
    {
     "data": {
      "image/png": "[encoded data removed]",
      "text/plain": [
       "<matplotlib.figure.Figure at 0x7f7ddcfd26a0>"
      ]
     },
     "metadata": {},
     "output_type": "display_data"
    }
   ],
   "source": [
    "hist(hab_treatment_i_values,bins=20,histtype='step',color='blue')\n",
    "hist(exp_treatment_i_values,bins=20,histtype='step',color='red')"
   ]
  },
  {
   "cell_type": "code",
   "execution_count": 19,
   "metadata": {},
   "outputs": [
    {
     "data": {
      "text/plain": [
       "(array([57.,  8.,  2.,  3.,  1.,  3.,  3.,  1.,  0.,  1.,  0.,  0.,  0.,\n",
       "         0.,  0.,  0.,  0.,  0.,  0.,  1.]),\n",
       " array([ 0.  ,  3.95,  7.9 , 11.85, 15.8 , 19.75, 23.7 , 27.65, 31.6 ,\n",
       "        35.55, 39.5 , 43.45, 47.4 , 51.35, 55.3 , 59.25, 63.2 , 67.15,\n",
       "        71.1 , 75.05, 79.  ]),\n",
       " <a list of 1 Patch objects>)"
      ]
     },
     "execution_count": 19,
     "metadata": {},
     "output_type": "execute_result"
    },
    {
     "data": {
      "image/png": "[encoded data removed]",
      "text/plain": [
       "<matplotlib.figure.Figure at 0x7f7ddcfd2940>"
      ]
     },
     "metadata": {},
     "output_type": "display_data"
    }
   ],
   "source": [
    "hist(hab_control_n_values,bins=20,histtype='step',color='blue')\n",
    "hist(exp_control_n_values,bins=20,histtype='step',color='red')"
   ]
  },
  {
   "cell_type": "code",
   "execution_count": 20,
   "metadata": {},
   "outputs": [
    {
     "data": {
      "text/plain": [
       "(array([57.,  8.,  2.,  3.,  1.,  3.,  3.,  1.,  0.,  1.,  0.,  0.,  0.,\n",
       "         0.,  0.,  0.,  0.,  0.,  0.,  1.]),\n",
       " array([ 0.  ,  3.95,  7.9 , 11.85, 15.8 , 19.75, 23.7 , 27.65, 31.6 ,\n",
       "        35.55, 39.5 , 43.45, 47.4 , 51.35, 55.3 , 59.25, 63.2 , 67.15,\n",
       "        71.1 , 75.05, 79.  ]),\n",
       " <a list of 1 Patch objects>)"
      ]
     },
     "execution_count": 20,
     "metadata": {},
     "output_type": "execute_result"
    },
    {
     "data": {
      "image/png": "[encoded data removed]",
      "text/plain": [
       "<matplotlib.figure.Figure at 0x7f7ddcf01cf8>"
      ]
     },
     "metadata": {},
     "output_type": "display_data"
    }
   ],
   "source": [
    "hist(hab_control_n_values,bins=20,histtype='step',color='blue')\n",
    "hist(exp_control_n_values,bins=20,histtype='step',color='red')"
   ]
  },
  {
   "cell_type": "markdown",
   "metadata": {},
   "source": [
    "### Control tests — Intruder"
   ]
  },
  {
   "cell_type": "code",
   "execution_count": 21,
   "metadata": {},
   "outputs": [
    {
     "name": "stdout",
     "output_type": "stream",
     "text": [
      "KstestResult(statistic=0.9522498680518208, pvalue=0.0)\n",
      "KstestResult(statistic=0.9999997133484281, pvalue=0.0)\n",
      "WilcoxonResult(statistic=1501.5, pvalue=0.8459589500483795)\n"
     ]
    }
   ],
   "source": [
    "print(stats.kstest(hab_control_i_values, 'norm'))\n",
    "print(stats.kstest(exp_control_i_values, 'norm'))\n",
    "print(stats.wilcoxon(hab_control_i_values, exp_control_i_values))"
   ]
  },
  {
   "cell_type": "markdown",
   "metadata": {},
   "source": [
    "### Treatment tests — Intruder"
   ]
  },
  {
   "cell_type": "code",
   "execution_count": 22,
   "metadata": {},
   "outputs": [
    {
     "name": "stdout",
     "output_type": "stream",
     "text": [
      "KstestResult(statistic=0.9624999990134123, pvalue=0.0)\n",
      "KstestResult(statistic=0.9522498680518208, pvalue=0.0)\n",
      "WilcoxonResult(statistic=1603.0, pvalue=0.9350089341119524)\n"
     ]
    }
   ],
   "source": [
    "print(stats.kstest(hab_treatment_i_values, 'norm'))\n",
    "print(stats.kstest(exp_treatment_i_values, 'norm'))\n",
    "print(stats.wilcoxon(hab_treatment_i_values, exp_treatment_i_values))"
   ]
  },
  {
   "cell_type": "markdown",
   "metadata": {},
   "source": [
    "### Control tests — Neighbour\n"
   ]
  },
  {
   "cell_type": "code",
   "execution_count": 23,
   "metadata": {},
   "outputs": [
    {
     "name": "stdout",
     "output_type": "stream",
     "text": [
      "KstestResult(statistic=0.5, pvalue=0.0)\n",
      "KstestResult(statistic=0.5, pvalue=0.0)\n",
      "WilcoxonResult(statistic=547.5, pvalue=0.040584645015251185)\n"
     ]
    }
   ],
   "source": [
    "print(stats.kstest(hab_control_n_values, 'norm'))\n",
    "print(stats.kstest(exp_control_n_values, 'norm'))\n",
    "print(stats.wilcoxon(hab_control_n_values, exp_control_n_values))"
   ]
  },
  {
   "cell_type": "markdown",
   "metadata": {},
   "source": [
    "### Treatment tests — Neighbour"
   ]
  },
  {
   "cell_type": "code",
   "execution_count": 24,
   "metadata": {},
   "outputs": [
    {
     "name": "stdout",
     "output_type": "stream",
     "text": [
      "KstestResult(statistic=0.5, pvalue=0.0)\n",
      "KstestResult(statistic=0.5, pvalue=0.0)\n",
      "WilcoxonResult(statistic=337.5, pvalue=0.0001653740325069067)\n"
     ]
    }
   ],
   "source": [
    "print(stats.kstest(hab_treatment_n_values, 'norm'))\n",
    "print(stats.kstest(exp_treatment_n_values, 'norm'))\n",
    "print(stats.wilcoxon(hab_treatment_n_values, exp_treatment_n_values))"
   ]
  },
  {
   "cell_type": "code",
   "execution_count": null,
   "metadata": {},
   "outputs": [],
   "source": []
  }
 ],
 "metadata": {
  "kernelspec": {
   "display_name": "Python 3",
   "language": "python",
   "name": "python3"
  },
  "language_info": {
   "codemirror_mode": {
    "name": "ipython",
    "version": 3
   },
   "file_extension": ".py",
   "mimetype": "text/x-python",
   "name": "python",
   "nbconvert_exporter": "python",
   "pygments_lexer": "ipython3",
   "version": "3.6.5"
  }
 },
 "nbformat": 4,
 "nbformat_minor": 2
}

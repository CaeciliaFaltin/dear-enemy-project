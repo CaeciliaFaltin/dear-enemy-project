{
 "cells": [
  {
   "cell_type": "code",
   "execution_count": 2,
   "metadata": {},
   "outputs": [],
   "source": [
    "import numpy as np\n",
    "import pandas as pd\n",
    "import matplotlib.pyplot as plt\n",
    "import scipy.stats as stats"
   ]
  },
  {
   "cell_type": "code",
   "execution_count": 3,
   "metadata": {},
   "outputs": [],
   "source": [
    "def read_output_data(filename):\n",
    "    table = pd.read_excel(filename)\n",
    "    table.loc[table.subject == 'male_A', 'subject'] = 'male'\n",
    "    table.loc[table.subject == 'male_B', 'subject'] = 'male'\n",
    "    table.loc[table.subject == 'female_A', 'subject'] = 'female'\n",
    "    table.loc[table.subject == 'female_B', 'subject'] = 'female'\n",
    "    return table.drop(columns=['tank_num', 'date'])"
   ]
  },
  {
   "cell_type": "code",
   "execution_count": 4,
   "metadata": {},
   "outputs": [],
   "source": [
    "def do_test_boxplot(data, col):\n",
    "    control = data.loc['control'][col]\n",
    "    treatment = data.loc['treatment'][col]\n",
    "    print(f'{col}: {stats.mannwhitneyu(control, treatment)}')\n",
    "\n",
    "    fig, ax = plt.subplots()\n",
    "    ax.boxplot([control, treatment], labels=['control', 'treatment'])\n",
    "    ax.set(title=f'{heading}')\n",
    "    fig.savefig(f'{heading}.pdf', format='pdf')"
   ]
  },
  {
   "cell_type": "code",
   "execution_count": 5,
   "metadata": {},
   "outputs": [
    {
     "data": {
      "text/html": [
       "<div>\n",
       "<style scoped>\n",
       "    .dataframe tbody tr th:only-of-type {\n",
       "        vertical-align: middle;\n",
       "    }\n",
       "\n",
       "    .dataframe tbody tr th {\n",
       "        vertical-align: top;\n",
       "    }\n",
       "\n",
       "    .dataframe thead th {\n",
       "        text-align: right;\n",
       "    }\n",
       "</style>\n",
       "<table border=\"1\" class=\"dataframe\">\n",
       "  <thead>\n",
       "    <tr style=\"text-align: right;\">\n",
       "      <th></th>\n",
       "      <th>pair_id</th>\n",
       "      <th>status</th>\n",
       "      <th>phase</th>\n",
       "      <th>cond</th>\n",
       "      <th>subject</th>\n",
       "      <th>app_neighbour</th>\n",
       "      <th>app_partner</th>\n",
       "      <th>fspr_neighbour</th>\n",
       "      <th>fspr_partner</th>\n",
       "      <th>cavity_neighbour</th>\n",
       "      <th>ST_neighbour</th>\n",
       "      <th>hd_neighbour</th>\n",
       "      <th>hd_partner</th>\n",
       "      <th>bars_neighbour</th>\n",
       "      <th>bars_partner</th>\n",
       "      <th>freeze_neighbour</th>\n",
       "      <th>sbend_neighbour</th>\n",
       "      <th>sbend_partner</th>\n",
       "      <th>l_partner</th>\n",
       "      <th>l_neighbour</th>\n",
       "    </tr>\n",
       "  </thead>\n",
       "  <tbody>\n",
       "    <tr>\n",
       "      <th>0</th>\n",
       "      <td>1</td>\n",
       "      <td>S</td>\n",
       "      <td>habituation</td>\n",
       "      <td>control</td>\n",
       "      <td>female</td>\n",
       "      <td>0.0</td>\n",
       "      <td>1.0</td>\n",
       "      <td>2.0</td>\n",
       "      <td>0.0</td>\n",
       "      <td>10.0</td>\n",
       "      <td>9.0</td>\n",
       "      <td>0.0</td>\n",
       "      <td>0.0</td>\n",
       "      <td>0.0</td>\n",
       "      <td>0.0</td>\n",
       "      <td>0.000</td>\n",
       "      <td>0.0</td>\n",
       "      <td>0.0</td>\n",
       "      <td>121.933</td>\n",
       "      <td>52.746</td>\n",
       "    </tr>\n",
       "    <tr>\n",
       "      <th>1</th>\n",
       "      <td>1</td>\n",
       "      <td>S</td>\n",
       "      <td>habituation</td>\n",
       "      <td>control</td>\n",
       "      <td>male</td>\n",
       "      <td>6.0</td>\n",
       "      <td>1.0</td>\n",
       "      <td>2.0</td>\n",
       "      <td>2.0</td>\n",
       "      <td>9.0</td>\n",
       "      <td>3.0</td>\n",
       "      <td>0.0</td>\n",
       "      <td>0.0</td>\n",
       "      <td>0.0</td>\n",
       "      <td>0.0</td>\n",
       "      <td>0.000</td>\n",
       "      <td>0.0</td>\n",
       "      <td>0.0</td>\n",
       "      <td>121.933</td>\n",
       "      <td>52.746</td>\n",
       "    </tr>\n",
       "    <tr>\n",
       "      <th>2</th>\n",
       "      <td>1</td>\n",
       "      <td>S</td>\n",
       "      <td>experiment</td>\n",
       "      <td>control</td>\n",
       "      <td>female</td>\n",
       "      <td>12.0</td>\n",
       "      <td>1.0</td>\n",
       "      <td>27.0</td>\n",
       "      <td>0.0</td>\n",
       "      <td>3.0</td>\n",
       "      <td>5.0</td>\n",
       "      <td>0.0</td>\n",
       "      <td>0.0</td>\n",
       "      <td>0.0</td>\n",
       "      <td>0.0</td>\n",
       "      <td>10.036</td>\n",
       "      <td>0.0</td>\n",
       "      <td>0.0</td>\n",
       "      <td>44.070</td>\n",
       "      <td>0.009</td>\n",
       "    </tr>\n",
       "    <tr>\n",
       "      <th>3</th>\n",
       "      <td>1</td>\n",
       "      <td>S</td>\n",
       "      <td>experiment</td>\n",
       "      <td>control</td>\n",
       "      <td>male</td>\n",
       "      <td>47.0</td>\n",
       "      <td>0.0</td>\n",
       "      <td>23.0</td>\n",
       "      <td>0.0</td>\n",
       "      <td>0.0</td>\n",
       "      <td>0.0</td>\n",
       "      <td>0.0</td>\n",
       "      <td>0.0</td>\n",
       "      <td>0.0</td>\n",
       "      <td>0.0</td>\n",
       "      <td>6.665</td>\n",
       "      <td>0.0</td>\n",
       "      <td>0.0</td>\n",
       "      <td>120.009</td>\n",
       "      <td>0.009</td>\n",
       "    </tr>\n",
       "    <tr>\n",
       "      <th>4</th>\n",
       "      <td>2</td>\n",
       "      <td>F</td>\n",
       "      <td>habituation</td>\n",
       "      <td>control</td>\n",
       "      <td>female</td>\n",
       "      <td>11.0</td>\n",
       "      <td>0.0</td>\n",
       "      <td>3.0</td>\n",
       "      <td>0.0</td>\n",
       "      <td>37.0</td>\n",
       "      <td>37.0</td>\n",
       "      <td>0.0</td>\n",
       "      <td>0.0</td>\n",
       "      <td>0.0</td>\n",
       "      <td>0.0</td>\n",
       "      <td>0.000</td>\n",
       "      <td>0.0</td>\n",
       "      <td>0.0</td>\n",
       "      <td>121.933</td>\n",
       "      <td>1.933</td>\n",
       "    </tr>\n",
       "  </tbody>\n",
       "</table>\n",
       "</div>"
      ],
      "text/plain": [
       "   pair_id status        phase     cond subject  app_neighbour  app_partner  \\\n",
       "0        1      S  habituation  control  female            0.0          1.0   \n",
       "1        1      S  habituation  control    male            6.0          1.0   \n",
       "2        1      S   experiment  control  female           12.0          1.0   \n",
       "3        1      S   experiment  control    male           47.0          0.0   \n",
       "4        2      F  habituation  control  female           11.0          0.0   \n",
       "\n",
       "   fspr_neighbour  fspr_partner  cavity_neighbour  ST_neighbour  hd_neighbour  \\\n",
       "0             2.0           0.0              10.0           9.0           0.0   \n",
       "1             2.0           2.0               9.0           3.0           0.0   \n",
       "2            27.0           0.0               3.0           5.0           0.0   \n",
       "3            23.0           0.0               0.0           0.0           0.0   \n",
       "4             3.0           0.0              37.0          37.0           0.0   \n",
       "\n",
       "   hd_partner  bars_neighbour  bars_partner  freeze_neighbour  \\\n",
       "0         0.0             0.0           0.0             0.000   \n",
       "1         0.0             0.0           0.0             0.000   \n",
       "2         0.0             0.0           0.0            10.036   \n",
       "3         0.0             0.0           0.0             6.665   \n",
       "4         0.0             0.0           0.0             0.000   \n",
       "\n",
       "   sbend_neighbour  sbend_partner  l_partner  l_neighbour  \n",
       "0              0.0            0.0    121.933       52.746  \n",
       "1              0.0            0.0    121.933       52.746  \n",
       "2              0.0            0.0     44.070        0.009  \n",
       "3              0.0            0.0    120.009        0.009  \n",
       "4              0.0            0.0    121.933        1.933  "
      ]
     },
     "execution_count": 5,
     "metadata": {},
     "output_type": "execute_result"
    }
   ],
   "source": [
    "table = read_output_data('data/output_data_long_videos_PAIR_ID_corrected.xlsx'); table.head()"
   ]
  },
  {
   "cell_type": "code",
   "execution_count": 6,
   "metadata": {},
   "outputs": [
    {
     "data": {
      "text/html": [
       "<div>\n",
       "<style scoped>\n",
       "    .dataframe tbody tr th:only-of-type {\n",
       "        vertical-align: middle;\n",
       "    }\n",
       "\n",
       "    .dataframe tbody tr th {\n",
       "        vertical-align: top;\n",
       "    }\n",
       "\n",
       "    .dataframe thead th {\n",
       "        text-align: right;\n",
       "    }\n",
       "</style>\n",
       "<table border=\"1\" class=\"dataframe\">\n",
       "  <thead>\n",
       "    <tr style=\"text-align: right;\">\n",
       "      <th></th>\n",
       "      <th>pair_id</th>\n",
       "      <th>status</th>\n",
       "      <th>phase</th>\n",
       "      <th>cond</th>\n",
       "      <th>subject</th>\n",
       "      <th>app_neighbour</th>\n",
       "      <th>app_partner</th>\n",
       "      <th>fspr_neighbour</th>\n",
       "      <th>fspr_partner</th>\n",
       "      <th>cavity_neighbour</th>\n",
       "      <th>ST_neighbour</th>\n",
       "      <th>hd_neighbour</th>\n",
       "      <th>hd_partner</th>\n",
       "      <th>bars_neighbour</th>\n",
       "      <th>bars_partner</th>\n",
       "      <th>freeze_neighbour</th>\n",
       "      <th>sbend_neighbour</th>\n",
       "      <th>sbend_partner</th>\n",
       "      <th>l_partner</th>\n",
       "      <th>l_neighbour</th>\n",
       "    </tr>\n",
       "  </thead>\n",
       "  <tbody>\n",
       "    <tr>\n",
       "      <th>4</th>\n",
       "      <td>2</td>\n",
       "      <td>F</td>\n",
       "      <td>habituation</td>\n",
       "      <td>control</td>\n",
       "      <td>female</td>\n",
       "      <td>11.0</td>\n",
       "      <td>0.0</td>\n",
       "      <td>3.0</td>\n",
       "      <td>0.0</td>\n",
       "      <td>37.0</td>\n",
       "      <td>37.0</td>\n",
       "      <td>0.0</td>\n",
       "      <td>0.0</td>\n",
       "      <td>0.0</td>\n",
       "      <td>0.0</td>\n",
       "      <td>0.00</td>\n",
       "      <td>0.0</td>\n",
       "      <td>0.0</td>\n",
       "      <td>121.933</td>\n",
       "      <td>1.933</td>\n",
       "    </tr>\n",
       "    <tr>\n",
       "      <th>6</th>\n",
       "      <td>2</td>\n",
       "      <td>F</td>\n",
       "      <td>experiment</td>\n",
       "      <td>control</td>\n",
       "      <td>female</td>\n",
       "      <td>56.0</td>\n",
       "      <td>0.0</td>\n",
       "      <td>19.0</td>\n",
       "      <td>1.0</td>\n",
       "      <td>3.0</td>\n",
       "      <td>2.0</td>\n",
       "      <td>0.0</td>\n",
       "      <td>0.0</td>\n",
       "      <td>0.0</td>\n",
       "      <td>0.0</td>\n",
       "      <td>7.94</td>\n",
       "      <td>1.0</td>\n",
       "      <td>0.0</td>\n",
       "      <td>120.009</td>\n",
       "      <td>0.009</td>\n",
       "    </tr>\n",
       "  </tbody>\n",
       "</table>\n",
       "</div>"
      ],
      "text/plain": [
       "   pair_id status        phase     cond subject  app_neighbour  app_partner  \\\n",
       "4        2      F  habituation  control  female           11.0          0.0   \n",
       "6        2      F   experiment  control  female           56.0          0.0   \n",
       "\n",
       "   fspr_neighbour  fspr_partner  cavity_neighbour  ST_neighbour  hd_neighbour  \\\n",
       "4             3.0           0.0              37.0          37.0           0.0   \n",
       "6            19.0           1.0               3.0           2.0           0.0   \n",
       "\n",
       "   hd_partner  bars_neighbour  bars_partner  freeze_neighbour  \\\n",
       "4         0.0             0.0           0.0              0.00   \n",
       "6         0.0             0.0           0.0              7.94   \n",
       "\n",
       "   sbend_neighbour  sbend_partner  l_partner  l_neighbour  \n",
       "4              0.0            0.0    121.933        1.933  \n",
       "6              1.0            0.0    120.009        0.009  "
      ]
     },
     "execution_count": 6,
     "metadata": {},
     "output_type": "execute_result"
    }
   ],
   "source": [
    "table.loc[(table.cond == 'control') & (table.subject == 'female') & (table.pair_id == 2) & (table.status == 'F')]"
   ]
  },
  {
   "cell_type": "code",
   "execution_count": 7,
   "metadata": {},
   "outputs": [],
   "source": [
    "def get_treatments_experiments(table):\n",
    "    grouped = table.groupby(['status','cond','phase','subject','pair_id']).sum().loc['F']\n",
    "    return (grouped.loc['treatment'], grouped.loc['control'])\n",
    "\n",
    "treatments, controls = get_treatments_experiments(table)"
   ]
  },
  {
   "cell_type": "code",
   "execution_count": 12,
   "metadata": {},
   "outputs": [
    {
     "data": {
      "text/plain": [
       "MannwhitneyuResult(statistic=646.0, pvalue=0.13672426826774478)"
      ]
     },
     "execution_count": 12,
     "metadata": {},
     "output_type": "execute_result"
    }
   ],
   "source": [
    "stats.mannwhitneyu(\n",
    "    treatments.loc['habituation']['app_neighbour'], \n",
    "    treatments.loc['experiment']['app_neighbour'],\n",
    "    alternative='two-sided')"
   ]
  },
  {
   "cell_type": "code",
   "execution_count": 14,
   "metadata": {},
   "outputs": [
    {
     "data": {
      "text/plain": [
       "MannwhitneyuResult(statistic=481.0, pvalue=0.002158435030997427)"
      ]
     },
     "execution_count": 14,
     "metadata": {},
     "output_type": "execute_result"
    }
   ],
   "source": [
    "stats.mannwhitneyu(\n",
    "    controls.loc['habituation']['app_neighbour'], \n",
    "    controls.loc['experiment']['app_neighbour'],\n",
    "    alternative='two-sided')"
   ]
  },
  {
   "cell_type": "code",
   "execution_count": null,
   "metadata": {},
   "outputs": [],
   "source": [
    "grouped_sum = table.groupby(['phase', 'status', 'cond', 'pair_id', 'subject']).sum()\n",
    "delta = grouped_sum.loc['habituation'] - grouped_sum.loc['experiment']; delta.head()"
   ]
  },
  {
   "cell_type": "code",
   "execution_count": null,
   "metadata": {},
   "outputs": [],
   "source": [
    "delta_fs = delta.loc['F']; delta_fs\n",
    "delta.to_csv('out.csv')"
   ]
  },
  {
   "cell_type": "code",
   "execution_count": 15,
   "metadata": {},
   "outputs": [
    {
     "ename": "NameError",
     "evalue": "name 'delta' is not defined",
     "output_type": "error",
     "traceback": [
      "\u001b[0;31m---------------------------------------------------------------------------\u001b[0m",
      "\u001b[0;31mNameError\u001b[0m                                 Traceback (most recent call last)",
      "\u001b[0;32m<ipython-input-15-764939362250>\u001b[0m in \u001b[0;36m<module>\u001b[0;34m()\u001b[0m\n\u001b[0;32m----> 1\u001b[0;31m \u001b[0mdelta\u001b[0m\u001b[0;34m.\u001b[0m\u001b[0mto_csv\u001b[0m\u001b[0;34m(\u001b[0m\u001b[0;34m'output_long_videos.csv'\u001b[0m\u001b[0;34m)\u001b[0m\u001b[0;34m\u001b[0m\u001b[0m\n\u001b[0m\u001b[1;32m      2\u001b[0m \u001b[0;32mfor\u001b[0m \u001b[0mheading\u001b[0m \u001b[0;32min\u001b[0m \u001b[0;34m[\u001b[0m\u001b[0;34m'app_neighbour'\u001b[0m\u001b[0;34m,\u001b[0m \u001b[0;34m'app_partner'\u001b[0m\u001b[0;34m,\u001b[0m \u001b[0;34m'freeze_neighbour'\u001b[0m\u001b[0;34m,\u001b[0m \u001b[0;34m'l_neighbour'\u001b[0m\u001b[0;34m]\u001b[0m\u001b[0;34m:\u001b[0m\u001b[0;34m\u001b[0m\u001b[0m\n\u001b[1;32m      3\u001b[0m     \u001b[0mdo_test_boxplot\u001b[0m\u001b[0;34m(\u001b[0m\u001b[0mdelta_fs\u001b[0m\u001b[0;34m,\u001b[0m \u001b[0mheading\u001b[0m\u001b[0;34m)\u001b[0m\u001b[0;34m\u001b[0m\u001b[0m\n",
      "\u001b[0;31mNameError\u001b[0m: name 'delta' is not defined"
     ]
    }
   ],
   "source": [
    "delta.to_csv('output_long_videos.csv')\n",
    "for heading in ['app_neighbour', 'app_partner', 'freeze_neighbour', 'l_neighbour']:\n",
    "    do_test_boxplot(delta_fs, heading)"
   ]
  },
  {
   "cell_type": "code",
   "execution_count": 17,
   "metadata": {},
   "outputs": [
    {
     "name": "stdout",
     "output_type": "stream",
     "text": [
      "[NbConvertApp] Converting notebook Fishy stuff t-tests-long videos-Pandas.ipynb to script\n",
      "[NbConvertApp] Writing 2139 bytes to Fishy stuff t-tests-long videos-Pandas.py\n"
     ]
    }
   ],
   "source": [
    "!jupyter nbconvert --to script \"Fishy stuff t-tests-long videos-Pandas.ipynb\""
   ]
  }
 ],
 "metadata": {
  "kernelspec": {
   "display_name": "Python 3",
   "language": "python",
   "name": "python3"
  },
  "language_info": {
   "codemirror_mode": {
    "name": "ipython",
    "version": 3
   },
   "file_extension": ".py",
   "mimetype": "text/x-python",
   "name": "python",
   "nbconvert_exporter": "python",
   "pygments_lexer": "ipython3",
   "version": "3.6.6"
  }
 },
 "nbformat": 4,
 "nbformat_minor": 2
}

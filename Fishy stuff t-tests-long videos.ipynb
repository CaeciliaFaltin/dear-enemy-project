{
 "cells": [
  {
   "cell_type": "code",
   "execution_count": 1,
   "metadata": {},
   "outputs": [],
   "source": [
    "def convert_gender(gender):\n",
    "    if gender.startswith('male'):\n",
    "        return 'male'\n",
    "    elif gender.startswith('female'):\n",
    "        return 'female'\n",
    "    assert false, gender\n",
    "\n",
    "def get_num(x):\n",
    "    try:\n",
    "        return int(x)\n",
    "    except ValueError:\n",
    "        try:\n",
    "            return float(x)\n",
    "        except ValueError:\n",
    "            return float('nan')\n",
    "    \n",
    "def update_dict(d, key, row):\n",
    "    empty_list = [0 for _ in row]\n",
    "    d[key] = [get_num(row[i]) + d.get(key, empty_list)[i] for i in range(len(row))]"
   ]
  },
  {
   "cell_type": "code",
   "execution_count": 2,
   "metadata": {},
   "outputs": [
    {
     "name": "stdout",
     "output_type": "stream",
     "text": [
      "Row of interest: ['app_neighbour', 'app_partner', 'fspr_neighbour', 'fspr_partner', 'cavity_neighbour', 'ST_neighbour', 'hd_neighbour', 'hd_partner', 'bars_neighbour', 'bars_partner', 'freeze_neighbour', 'sbend_neighbour', 'sbend_partner', 'l_partner', 'l_neighbour']\n"
     ]
    }
   ],
   "source": [
    "hab_control = dict()\n",
    "exp_control = dict()\n",
    "hab_treatment = dict()\n",
    "exp_treatment = dict()\n",
    "\n",
    "with open('data/output_data_long_videos_freeze_corrected.csv','r') as f:\n",
    "    import csv\n",
    "    reader = csv.reader(f)\n",
    "    for row in reader:\n",
    "        # rows of interest\n",
    "        roi = row[7:22]\n",
    "\n",
    "        # skip header\n",
    "        if row[0] == 'tank_num':\n",
    "            headings = [cell.strip() for cell in roi]\n",
    "            print(f'Row of interest: {headings}')\n",
    "            continue\n",
    "\n",
    "        tank_num = row[0].strip()\n",
    "        date = row[1].strip()\n",
    "        pair_id = int(row[2])\n",
    "        status = row[3].strip()\n",
    "        phase = row[4].strip()\n",
    "        cond = row[5].strip()\n",
    "        subject = convert_gender(row[6].strip())\n",
    "\n",
    "# These ones should be skipped, as the data for the first 4 observations are missing\n",
    "# F1, 2017.04.28,5,S, habituation, treatment, male_A,NA,NA,NA,NA,NA,NA,NA,NA,NA,NA,NA,NA,NA,NA,NA\n",
    "# F1, 2017.04.28,5,S, habituation, treatment, female_A,NA,NA,NA,NA,NA,NA,NA,NA,NA,NA,NA,NA,NA,NA,NA\n",
    "# F1, 2017.04.28,6,F, habituation, treatment, male_B,NA,NA,NA,NA,NA,NA,NA,NA,NA,NA,NA,NA,NA,NA,NA\n",
    "# F1, 2017.04.28,6,F, habituation, treatment, female_B,NA,NA,NA,NA,NA,NA,NA,NA,NA,NA,NA,NA,NA,NA,NA\n",
    "# F1, 2017.05.01,6,F, experiment, treatment, male_A,7,0,4,3,2,0,0,0,0,0,0,0,0,136.91,44.824\n",
    "# F1, 2017.05.01,6,F, experiment, treatment, female_A,4,1,2,0,2,0,0,0,0,0,0,0,0,136.91,43.243\n",
    "# F1, 2017.05.01,8,S, experiment, treatment, male_B,0,2,2,5,0,0,0,0,0,0,2,0,1,92.59,24.271\n",
    "# F1, 2017.05.01,8,S, experiment, treatment, female_B,0,19,2,3,4,0,0,0,0,0,2,0,0,53.718,16.91\n",
    "\n",
    "# The first four rows are easy, as the data is missing (and triggers a ValueError).\n",
    "# Use a special case to check the others.\n",
    "        skip_rows = [\n",
    "            ['F1', '2017.05.01', '6', 'F', 'experiment', 'treatment'],\n",
    "            ['F1', '2017.05.01', '8', 'S', 'experiment', 'treatment']\n",
    "        ]\n",
    "        \n",
    "        skip = False\n",
    "        for skip_row in skip_rows:\n",
    "            if all(a == b.strip() for a,b in zip(skip_row, row)):\n",
    "                skip = True\n",
    "                break\n",
    "        # Disable the skipping for the moment\n",
    "        # if skip:\n",
    "            # print(f'Skipping row: {row}')\n",
    "            # continue\n",
    "\n",
    "        try:\n",
    "            key = (pair_id, subject, status)\n",
    "            if phase == 'habituation':\n",
    "                if cond == 'control':\n",
    "                    update_dict(hab_control, key, roi)\n",
    "                elif cond == 'treatment':\n",
    "                    update_dict(hab_treatment, key, roi)\n",
    "                else:\n",
    "                    assert false, row\n",
    "            elif phase == 'experiment':\n",
    "                if cond == 'control':\n",
    "                    update_dict(exp_control, key, roi)\n",
    "                elif cond == 'treatment':\n",
    "                    update_dict(exp_treatment, key, roi)\n",
    "                else:\n",
    "                    assert false, row\n",
    "            else:\n",
    "                assert false, row\n",
    "\n",
    "        except ValueError:\n",
    "            print(f'Skipping row: {row} due to ValueError!')\n",
    "            pass"
   ]
  },
  {
   "cell_type": "code",
   "execution_count": 3,
   "metadata": {},
   "outputs": [
    {
     "name": "stdout",
     "output_type": "stream",
     "text": [
      "Wrote 13183 bytes\n"
     ]
    }
   ],
   "source": [
    "def calc_delta(hab_dict, exp_dict):\n",
    "    # calculate hab - exp for control pairs\n",
    "    assert hab_dict.keys() == exp_dict.keys(), f'diff: {set(hab_dict.keys()) ^ set(exp_dict.keys())}'\n",
    "    combined = dict()\n",
    "\n",
    "    for k, v in hab_dict.items():\n",
    "        combined[k] = [hab - exp for hab, exp in zip(v, exp_dict[k])]\n",
    "        # print(f'{k} -> {combined[k]}')\n",
    "\n",
    "    return combined\n",
    "\n",
    "control_values = calc_delta(hab_control, exp_control)\n",
    "treatment_values = calc_delta(hab_treatment, exp_treatment)\n",
    "\n",
    "def output_values(values):\n",
    "    # now output the data to a csv file for further processing\n",
    "    with open('output_values.csv','w') as f:\n",
    "        f.write(f'pairid,gender,status,phase,{\",\".join(headings)}\\n')\n",
    "        for col, value in values:\n",
    "            for k, v in value.items():\n",
    "                key_str = ','.join(map(str, k))\n",
    "                val_str = ','.join(map(str, v))\n",
    "                f.write(f'{key_str},{col},{val_str}\\n')\n",
    "\n",
    "        print(f'Wrote {f.tell()} bytes')\n",
    "    \n",
    "output_values([('control', control_values), ('treatment', treatment_values)])"
   ]
  },
  {
   "cell_type": "code",
   "execution_count": 4,
   "metadata": {},
   "outputs": [],
   "source": [
    "def calc_mannwhitneyu_test(control, treatment, col):\n",
    "    from scipy import stats\n",
    "    from numpy import array\n",
    "    \n",
    "    control_array = array([v[col] for v in control.values()])\n",
    "    treatment_array = array([v[col] for v in treatment.values()])\n",
    "    \n",
    "    return stats.mannwhitneyu(control_array, treatment_array)"
   ]
  },
  {
   "cell_type": "code",
   "execution_count": 5,
   "metadata": {},
   "outputs": [],
   "source": [
    "def do_test_boxplot(heading):\n",
    "    i = headings.index(heading)\n",
    "    print(f'Column {i+1}, {headings[i]}: {calc_mannwhitneyu_test(control_values, treatment_values, i)}')\n",
    "    \n",
    "    import matplotlib.pyplot as plt\n",
    "    from math import isnan\n",
    "    fig, ax = plt.subplots()\n",
    "    ax.boxplot(\n",
    "        [[v[i] for v in control_values.values() if not isnan(v[i])],\n",
    "         [v[i] for v in treatment_values.values() if not isnan(v[i])]],\n",
    "        labels=['control', 'treatment'],\n",
    "        # positions=[1, 3]\n",
    "    )\n",
    "    ax.set(title=f'{heading}')\n",
    "    # ax.set_ylim(0, 160)\n",
    "    fig.savefig(f'fishy_stuff_t-tests-long_videos_{heading}.pdf', format='pdf')"
   ]
  },
  {
   "cell_type": "code",
   "execution_count": 6,
   "metadata": {},
   "outputs": [
    {
     "name": "stdout",
     "output_type": "stream",
     "text": [
      "Column 1, app_neighbour: MannwhitneyuResult(statistic=2213.0, pvalue=0.000379577471607895)\n",
      "Column 2, app_partner: MannwhitneyuResult(statistic=2953.0, pvalue=0.18757263566188292)\n",
      "Column 11, freeze_neighbour: MannwhitneyuResult(statistic=2990.5, pvalue=0.23635932789470943)\n",
      "Column 15, l_neighbour: MannwhitneyuResult(statistic=3153.0, pvalue=0.43695747473457924)\n"
     ]
    }
   ],
   "source": [
    "for heading in ['app_neighbour', 'app_partner', 'freeze_neighbour', 'l_neighbour']:\n",
    "    do_test_boxplot(heading)"
   ]
  },
  {
   "cell_type": "code",
   "execution_count": 7,
   "metadata": {},
   "outputs": [],
   "source": [
    "from scipy import stats\n",
    "import numpy\n",
    "\n",
    "hab_control_i_values = numpy.array([v[0] for v in hab_control.values()])\n",
    "exp_control_i_values = numpy.array([v[0] for v in exp_control.values()])\n",
    "hab_treatment_i_values = numpy.array([v[0] for v in hab_treatment.values()])\n",
    "exp_treatment_i_values = numpy.array([v[0] for v in exp_treatment.values()])\n",
    "\n",
    "hab_control_n_values = numpy.array([v[1] for v in hab_control.values()])\n",
    "exp_control_n_values = numpy.array([v[1] for v in exp_control.values()])\n",
    "hab_treatment_n_values = numpy.array([v[1] for v in hab_treatment.values()])\n",
    "exp_treatment_n_values = numpy.array([v[1] for v in exp_treatment.values()])\n",
    "# How to do a t-test\n",
    "# stats.ttest_rel(hab_control_values, exp_control_values)"
   ]
  },
  {
   "cell_type": "code",
   "execution_count": 8,
   "metadata": {},
   "outputs": [],
   "source": [
    "from matplotlib.pyplot import hist"
   ]
  },
  {
   "cell_type": "code",
   "execution_count": 9,
   "metadata": {},
   "outputs": [
    {
     "data": {
      "text/plain": [
       "(array([16.,  6., 10.,  3.,  5.,  6.,  6.,  3.,  5.,  3.,  4.,  2.,  3.,\n",
       "         1.,  3.,  2.,  0.,  0.,  0.,  2.]),\n",
       " array([  0. ,   6.5,  13. ,  19.5,  26. ,  32.5,  39. ,  45.5,  52. ,\n",
       "         58.5,  65. ,  71.5,  78. ,  84.5,  91. ,  97.5, 104. , 110.5,\n",
       "        117. , 123.5, 130. ]),\n",
       " <a list of 1 Patch objects>)"
      ]
     },
     "execution_count": 9,
     "metadata": {},
     "output_type": "execute_result"
    },
    {
     "data": {
      "image/png": "[encoded data removed]",
      "text/plain": [
       "<matplotlib.figure.Figure at 0x7f2b559da128>"
      ]
     },
     "metadata": {},
     "output_type": "display_data"
    }
   ],
   "source": [
    "hist(hab_control_i_values,bins=20,histtype='step',color='blue')\n",
    "hist(exp_control_i_values,bins=20,histtype='step',color='red')"
   ]
  },
  {
   "cell_type": "code",
   "execution_count": 10,
   "metadata": {},
   "outputs": [
    {
     "name": "stderr",
     "output_type": "stream",
     "text": [
      "/nix/store/9brkpb2ijn4z1vn18f5lsbvxnyqxp06i-python3-3.6.6-env/lib/python3.6/site-packages/numpy/core/_methods.py:29: RuntimeWarning: invalid value encountered in reduce\n",
      "  return umr_minimum(a, axis, None, out, keepdims)\n",
      "/nix/store/9brkpb2ijn4z1vn18f5lsbvxnyqxp06i-python3-3.6.6-env/lib/python3.6/site-packages/numpy/core/_methods.py:26: RuntimeWarning: invalid value encountered in reduce\n",
      "  return umr_maximum(a, axis, None, out, keepdims)\n"
     ]
    },
    {
     "ename": "ValueError",
     "evalue": "max must be larger than min in range parameter.",
     "output_type": "error",
     "traceback": [
      "\u001b[0;31m---------------------------------------------------------------------------\u001b[0m",
      "\u001b[0;31mValueError\u001b[0m                                Traceback (most recent call last)",
      "\u001b[0;32m<ipython-input-10-4ab9de5b9e67>\u001b[0m in \u001b[0;36m<module>\u001b[0;34m()\u001b[0m\n\u001b[0;32m----> 1\u001b[0;31m \u001b[0mhist\u001b[0m\u001b[0;34m(\u001b[0m\u001b[0mhab_treatment_i_values\u001b[0m\u001b[0;34m,\u001b[0m\u001b[0mbins\u001b[0m\u001b[0;34m=\u001b[0m\u001b[0;36m20\u001b[0m\u001b[0;34m,\u001b[0m\u001b[0mhisttype\u001b[0m\u001b[0;34m=\u001b[0m\u001b[0;34m'step'\u001b[0m\u001b[0;34m,\u001b[0m\u001b[0mcolor\u001b[0m\u001b[0;34m=\u001b[0m\u001b[0;34m'blue'\u001b[0m\u001b[0;34m)\u001b[0m\u001b[0;34m\u001b[0m\u001b[0m\n\u001b[0m\u001b[1;32m      2\u001b[0m \u001b[0mhist\u001b[0m\u001b[0;34m(\u001b[0m\u001b[0mexp_treatment_i_values\u001b[0m\u001b[0;34m,\u001b[0m\u001b[0mbins\u001b[0m\u001b[0;34m=\u001b[0m\u001b[0;36m20\u001b[0m\u001b[0;34m,\u001b[0m\u001b[0mhisttype\u001b[0m\u001b[0;34m=\u001b[0m\u001b[0;34m'step'\u001b[0m\u001b[0;34m,\u001b[0m\u001b[0mcolor\u001b[0m\u001b[0;34m=\u001b[0m\u001b[0;34m'red'\u001b[0m\u001b[0;34m)\u001b[0m\u001b[0;34m\u001b[0m\u001b[0m\n",
      "\u001b[0;32m/nix/store/9brkpb2ijn4z1vn18f5lsbvxnyqxp06i-python3-3.6.6-env/lib/python3.6/site-packages/matplotlib/pyplot.py\u001b[0m in \u001b[0;36mhist\u001b[0;34m(x, bins, range, density, weights, cumulative, bottom, histtype, align, orientation, rwidth, log, color, label, stacked, normed, hold, data, **kwargs)\u001b[0m\n\u001b[1;32m   3023\u001b[0m                       \u001b[0mhisttype\u001b[0m\u001b[0;34m=\u001b[0m\u001b[0mhisttype\u001b[0m\u001b[0;34m,\u001b[0m \u001b[0malign\u001b[0m\u001b[0;34m=\u001b[0m\u001b[0malign\u001b[0m\u001b[0;34m,\u001b[0m \u001b[0morientation\u001b[0m\u001b[0;34m=\u001b[0m\u001b[0morientation\u001b[0m\u001b[0;34m,\u001b[0m\u001b[0;34m\u001b[0m\u001b[0m\n\u001b[1;32m   3024\u001b[0m                       \u001b[0mrwidth\u001b[0m\u001b[0;34m=\u001b[0m\u001b[0mrwidth\u001b[0m\u001b[0;34m,\u001b[0m \u001b[0mlog\u001b[0m\u001b[0;34m=\u001b[0m\u001b[0mlog\u001b[0m\u001b[0;34m,\u001b[0m \u001b[0mcolor\u001b[0m\u001b[0;34m=\u001b[0m\u001b[0mcolor\u001b[0m\u001b[0;34m,\u001b[0m \u001b[0mlabel\u001b[0m\u001b[0;34m=\u001b[0m\u001b[0mlabel\u001b[0m\u001b[0;34m,\u001b[0m\u001b[0;34m\u001b[0m\u001b[0m\n\u001b[0;32m-> 3025\u001b[0;31m                       stacked=stacked, normed=normed, data=data, **kwargs)\n\u001b[0m\u001b[1;32m   3026\u001b[0m     \u001b[0;32mfinally\u001b[0m\u001b[0;34m:\u001b[0m\u001b[0;34m\u001b[0m\u001b[0m\n\u001b[1;32m   3027\u001b[0m         \u001b[0max\u001b[0m\u001b[0;34m.\u001b[0m\u001b[0m_hold\u001b[0m \u001b[0;34m=\u001b[0m \u001b[0mwashold\u001b[0m\u001b[0;34m\u001b[0m\u001b[0m\n",
      "\u001b[0;32m/nix/store/9brkpb2ijn4z1vn18f5lsbvxnyqxp06i-python3-3.6.6-env/lib/python3.6/site-packages/matplotlib/__init__.py\u001b[0m in \u001b[0;36minner\u001b[0;34m(ax, *args, **kwargs)\u001b[0m\n\u001b[1;32m   1715\u001b[0m                     warnings.warn(msg % (label_namer, func.__name__),\n\u001b[1;32m   1716\u001b[0m                                   RuntimeWarning, stacklevel=2)\n\u001b[0;32m-> 1717\u001b[0;31m             \u001b[0;32mreturn\u001b[0m \u001b[0mfunc\u001b[0m\u001b[0;34m(\u001b[0m\u001b[0max\u001b[0m\u001b[0;34m,\u001b[0m \u001b[0;34m*\u001b[0m\u001b[0margs\u001b[0m\u001b[0;34m,\u001b[0m \u001b[0;34m**\u001b[0m\u001b[0mkwargs\u001b[0m\u001b[0;34m)\u001b[0m\u001b[0;34m\u001b[0m\u001b[0m\n\u001b[0m\u001b[1;32m   1718\u001b[0m         \u001b[0mpre_doc\u001b[0m \u001b[0;34m=\u001b[0m \u001b[0minner\u001b[0m\u001b[0;34m.\u001b[0m\u001b[0m__doc__\u001b[0m\u001b[0;34m\u001b[0m\u001b[0m\n\u001b[1;32m   1719\u001b[0m         \u001b[0;32mif\u001b[0m \u001b[0mpre_doc\u001b[0m \u001b[0;32mis\u001b[0m \u001b[0;32mNone\u001b[0m\u001b[0;34m:\u001b[0m\u001b[0;34m\u001b[0m\u001b[0m\n",
      "\u001b[0;32m/nix/store/9brkpb2ijn4z1vn18f5lsbvxnyqxp06i-python3-3.6.6-env/lib/python3.6/site-packages/matplotlib/axes/_axes.py\u001b[0m in \u001b[0;36mhist\u001b[0;34m(***failed resolving arguments***)\u001b[0m\n\u001b[1;32m   6163\u001b[0m             \u001b[0;31m# this will automatically overwrite bins,\u001b[0m\u001b[0;34m\u001b[0m\u001b[0;34m\u001b[0m\u001b[0m\n\u001b[1;32m   6164\u001b[0m             \u001b[0;31m# so that each histogram uses the same bins\u001b[0m\u001b[0;34m\u001b[0m\u001b[0;34m\u001b[0m\u001b[0m\n\u001b[0;32m-> 6165\u001b[0;31m             \u001b[0mm\u001b[0m\u001b[0;34m,\u001b[0m \u001b[0mbins\u001b[0m \u001b[0;34m=\u001b[0m \u001b[0mnp\u001b[0m\u001b[0;34m.\u001b[0m\u001b[0mhistogram\u001b[0m\u001b[0;34m(\u001b[0m\u001b[0mx\u001b[0m\u001b[0;34m[\u001b[0m\u001b[0mi\u001b[0m\u001b[0;34m]\u001b[0m\u001b[0;34m,\u001b[0m \u001b[0mbins\u001b[0m\u001b[0;34m,\u001b[0m \u001b[0mweights\u001b[0m\u001b[0;34m=\u001b[0m\u001b[0mw\u001b[0m\u001b[0;34m[\u001b[0m\u001b[0mi\u001b[0m\u001b[0;34m]\u001b[0m\u001b[0;34m,\u001b[0m \u001b[0;34m**\u001b[0m\u001b[0mhist_kwargs\u001b[0m\u001b[0;34m)\u001b[0m\u001b[0;34m\u001b[0m\u001b[0m\n\u001b[0m\u001b[1;32m   6166\u001b[0m             \u001b[0mm\u001b[0m \u001b[0;34m=\u001b[0m \u001b[0mm\u001b[0m\u001b[0;34m.\u001b[0m\u001b[0mastype\u001b[0m\u001b[0;34m(\u001b[0m\u001b[0mfloat\u001b[0m\u001b[0;34m)\u001b[0m  \u001b[0;31m# causes problems later if it's an int\u001b[0m\u001b[0;34m\u001b[0m\u001b[0m\n\u001b[1;32m   6167\u001b[0m             \u001b[0;32mif\u001b[0m \u001b[0mmlast\u001b[0m \u001b[0;32mis\u001b[0m \u001b[0;32mNone\u001b[0m\u001b[0;34m:\u001b[0m\u001b[0;34m\u001b[0m\u001b[0m\n",
      "\u001b[0;32m/nix/store/9brkpb2ijn4z1vn18f5lsbvxnyqxp06i-python3-3.6.6-env/lib/python3.6/site-packages/numpy/lib/function_base.py\u001b[0m in \u001b[0;36mhistogram\u001b[0;34m(a, bins, range, normed, weights, density)\u001b[0m\n\u001b[1;32m    665\u001b[0m     \u001b[0;32mif\u001b[0m \u001b[0mfirst_edge\u001b[0m \u001b[0;34m>\u001b[0m \u001b[0mlast_edge\u001b[0m\u001b[0;34m:\u001b[0m\u001b[0;34m\u001b[0m\u001b[0m\n\u001b[1;32m    666\u001b[0m         raise ValueError(\n\u001b[0;32m--> 667\u001b[0;31m             'max must be larger than min in range parameter.')\n\u001b[0m\u001b[1;32m    668\u001b[0m     \u001b[0;32mif\u001b[0m \u001b[0;32mnot\u001b[0m \u001b[0mnp\u001b[0m\u001b[0;34m.\u001b[0m\u001b[0mall\u001b[0m\u001b[0;34m(\u001b[0m\u001b[0mnp\u001b[0m\u001b[0;34m.\u001b[0m\u001b[0misfinite\u001b[0m\u001b[0;34m(\u001b[0m\u001b[0;34m[\u001b[0m\u001b[0mfirst_edge\u001b[0m\u001b[0;34m,\u001b[0m \u001b[0mlast_edge\u001b[0m\u001b[0;34m]\u001b[0m\u001b[0;34m)\u001b[0m\u001b[0;34m)\u001b[0m\u001b[0;34m:\u001b[0m\u001b[0;34m\u001b[0m\u001b[0m\n\u001b[1;32m    669\u001b[0m         raise ValueError(\n",
      "\u001b[0;31mValueError\u001b[0m: max must be larger than min in range parameter."
     ]
    },
    {
     "data": {
      "image/png": "[encoded data removed]",
      "text/plain": [
       "<matplotlib.figure.Figure at 0x7f2b559a9a20>"
      ]
     },
     "metadata": {},
     "output_type": "display_data"
    }
   ],
   "source": [
    "hist(hab_treatment_i_values,bins=20,histtype='step',color='blue')\n",
    "hist(exp_treatment_i_values,bins=20,histtype='step',color='red')"
   ]
  },
  {
   "cell_type": "code",
   "execution_count": null,
   "metadata": {},
   "outputs": [],
   "source": [
    "hist(hab_control_n_values,bins=20,histtype='step',color='blue')\n",
    "hist(exp_control_n_values,bins=20,histtype='step',color='red')"
   ]
  },
  {
   "cell_type": "code",
   "execution_count": null,
   "metadata": {},
   "outputs": [],
   "source": [
    "hist(hab_control_n_values,bins=20,histtype='step',color='blue')\n",
    "hist(exp_control_n_values,bins=20,histtype='step',color='red')"
   ]
  },
  {
   "cell_type": "markdown",
   "metadata": {},
   "source": [
    "### Control tests — Intruder"
   ]
  },
  {
   "cell_type": "code",
   "execution_count": null,
   "metadata": {},
   "outputs": [],
   "source": [
    "print(stats.kstest(hab_control_i_values, 'norm'))\n",
    "print(stats.kstest(exp_control_i_values, 'norm'))\n",
    "print(stats.wilcoxon(hab_control_i_values, exp_control_i_values))"
   ]
  },
  {
   "cell_type": "markdown",
   "metadata": {},
   "source": [
    "### Treatment tests — Intruder"
   ]
  },
  {
   "cell_type": "code",
   "execution_count": null,
   "metadata": {},
   "outputs": [],
   "source": [
    "print(stats.kstest(hab_treatment_i_values, 'norm'))\n",
    "print(stats.kstest(exp_treatment_i_values, 'norm'))\n",
    "print(stats.wilcoxon(hab_treatment_i_values, exp_treatment_i_values))"
   ]
  },
  {
   "cell_type": "markdown",
   "metadata": {},
   "source": [
    "### Control tests — Neighbour\n"
   ]
  },
  {
   "cell_type": "code",
   "execution_count": null,
   "metadata": {},
   "outputs": [],
   "source": [
    "print(stats.kstest(hab_control_n_values, 'norm'))\n",
    "print(stats.kstest(exp_control_n_values, 'norm'))\n",
    "print(stats.wilcoxon(hab_control_n_values, exp_control_n_values))"
   ]
  },
  {
   "cell_type": "markdown",
   "metadata": {},
   "source": [
    "### Treatment tests — Neighbour"
   ]
  },
  {
   "cell_type": "code",
   "execution_count": null,
   "metadata": {},
   "outputs": [],
   "source": [
    "print(stats.kstest(hab_treatment_n_values, 'norm'))\n",
    "print(stats.kstest(exp_treatment_n_values, 'norm'))\n",
    "print(stats.wilcoxon(hab_treatment_n_values, exp_treatment_n_values))"
   ]
  },
  {
   "cell_type": "code",
   "execution_count": null,
   "metadata": {},
   "outputs": [],
   "source": []
  }
 ],
 "metadata": {
  "kernelspec": {
   "display_name": "Python 3",
   "language": "python",
   "name": "python3"
  },
  "language_info": {
   "codemirror_mode": {
    "name": "ipython",
    "version": 3
   },
   "file_extension": ".py",
   "mimetype": "text/x-python",
   "name": "python",
   "nbconvert_exporter": "python",
   "pygments_lexer": "ipython3",
   "version": "3.6.6"
  }
 },
 "nbformat": 4,
 "nbformat_minor": 2
}
